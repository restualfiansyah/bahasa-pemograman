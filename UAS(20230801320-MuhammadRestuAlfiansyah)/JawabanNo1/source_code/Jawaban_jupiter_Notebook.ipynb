{
 "cells": [
  {
   "cell_type": "markdown",
   "metadata": {},
   "source": [
    "                                                            Function"
   ]
  },
  {
   "cell_type": "code",
   "execution_count": 1,
   "metadata": {},
   "outputs": [
    {
     "name": "stdout",
     "output_type": "stream",
     "text": [
      "12\n"
     ]
    }
   ],
   "source": [
    "def tambah(a, b):\n",
    "    return a + b\n",
    "\n",
    "# Memanggil fungsi\n",
    "hasil = tambah(5, 7)\n",
    "print(hasil)  # Output: 12\n"
   ]
  },
  {
   "cell_type": "markdown",
   "metadata": {},
   "source": [
    "                                                          recursive"
   ]
  },
  {
   "cell_type": "code",
   "execution_count": 2,
   "metadata": {},
   "outputs": [
    {
     "name": "stdout",
     "output_type": "stream",
     "text": [
      "120\n"
     ]
    }
   ],
   "source": [
    "def faktorial(n):\n",
    "    # Basis kasus: jika n sama dengan 1, kembalikan 1\n",
    "    if n == 1:\n",
    "        return 1\n",
    "    else:\n",
    "        # Panggilan rekursif\n",
    "        return n * faktorial(n - 1)\n",
    "\n",
    "# Memanggil fungsi rekursif\n",
    "hasil = faktorial(5)\n",
    "print(hasil)  # Output: 120 (karena 5! = 5 * 4 * 3 * 2 * 1)\n"
   ]
  }
 ],
 "metadata": {
  "kernelspec": {
   "display_name": "Python 3",
   "language": "python",
   "name": "python3"
  },
  "language_info": {
   "codemirror_mode": {
    "name": "ipython",
    "version": 3
   },
   "file_extension": ".py",
   "mimetype": "text/x-python",
   "name": "python",
   "nbconvert_exporter": "python",
   "pygments_lexer": "ipython3",
   "version": "3.10.12"
  }
 },
 "nbformat": 4,
 "nbformat_minor": 2
}
