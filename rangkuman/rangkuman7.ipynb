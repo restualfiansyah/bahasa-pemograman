{
 "cells": [
  {
   "cell_type": "markdown",
   "metadata": {},
   "source": [
    "Kamus (Dictionary) Pengertian Kamus Dictionary adalah tipe data dalam Python yang digunakan untuk menyimpan kumpulan data/nilai dengan pendekatan \"key-value\". Kamus itu sendiri memiliki dua komponen inti: Kunci (key) dan Nilai (value). Kunci adalah atribut dari sebuah item dalam kamus, sedangkan nilai adalah nilai yang disimpan dalam atribut.\n",
    "Kamus memiliki tiga sifat utama:\n",
    "\n",
    "Tidak Berurutan (Unordered): Kamus tidak bersifat urutan, jadi kunci/atribut yang kita definisikan pertama, tidak berarti akan menjadi yang pertama dibandingkan kunci lainnya. Kamus juga tidak bisa diakses menggunakan indeks (integer) seperti halnya daftar (list).\n",
    "\n",
    "Dapat Diubah (Changeable): Kita bisa mengubah nilai yang telah dimasukkan ke dalam kamus. Ini berbeda dari tipe data set dan tuple, yang keduanya tidak bisa diubah atau immutable.\n",
    "\n",
    "Unik (Unique): Kamus tidak bisa memiliki lebih dari satu kunci yang sama karena kunci harus unik. Jadi jika ada dua kunci yang sama, nilai terakhir yang didefinisikan akan menggantikan nilai yang didefinisikan sebelumnya.\n",
    "\n",
    "a. Membuat Elemen Kamus Cara membuat kamus dalam Python ada dua:\n",
    "\n",
    "Menggunakan kurung kurawal {}. Menggunakan fungsi atau konstruktor dict(). Contoh:"
   ]
  },
  {
   "cell_type": "code",
   "execution_count": null,
   "metadata": {
    "vscode": {
     "languageId": "plaintext"
    }
   },
   "outputs": [],
   "source": [
    "# Cara pertama\n",
    "book = {\n",
    "    \"title\": \"Fall Leaves Never Hate The Wind\",\n",
    "    \"writer\": \"Tere Liye\"\n",
    "}\n",
    "\n",
    "# Cara kedua\n",
    "book = dict(\n",
    "    title=\"Fall Leaves Never Hate The Wind\",\n",
    "    author=\"Tere Liye\"\n",
    ")"
   ]
  }
 ],
 "metadata": {
  "language_info": {
   "name": "python"
  }
 },
 "nbformat": 4,
 "nbformat_minor": 2
}
