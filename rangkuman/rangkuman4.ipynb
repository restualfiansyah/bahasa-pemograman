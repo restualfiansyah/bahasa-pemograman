{
 "cells": [
  {
   "cell_type": "markdown",
   "metadata": {},
   "source": [
    "d. Menambah/Memperbarui Elemen Set\n",
    "Seperti yang kita sebutkan di atas bahwa meskipun nilai set tidak dapat diubah, kita masih dapat menambah dan menghapus elemen. Kita dapat menambahkan anggota ke set dengan fungsi add() dan update(). Pertimbangkan contoh berikut:"
   ]
  },
  {
   "cell_type": "code",
   "execution_count": null,
   "metadata": {
    "vscode": {
     "languageId": "plaintext"
    }
   },
   "outputs": [],
   "source": [
    "alphabet_set = {'a', 'b', 'c'}\n",
    "print(alphabet_set)\n",
    "\n",
    "# menambahkan satu per satu\n",
    "set_abjad.add('d')\n",
    "set_abjad.add('e')\n",
    "\n",
    "# menambahkan lebih dari satu anggota sekaligus\n",
    "set_abjad.update({'f', 'g'})\n",
    "# juga bisa menggunakan daftar\n",
    "set_abjad.update(['h', 'i'])\n",
    "\n",
    "print(alphabet_set)\n"
   ]
  },
  {
   "cell_type": "markdown",
   "metadata": {},
   "source": [
    "Output:"
   ]
  },
  {
   "cell_type": "code",
   "execution_count": null,
   "metadata": {
    "vscode": {
     "languageId": "plaintext"
    }
   },
   "outputs": [],
   "source": [
    "{'a', 'c', 'b'}\n",
    "{'d', 'u', 'e', 'a', 'b', 'g', 'h', 'f', 'c'}\n"
   ]
  },
  {
   "cell_type": "markdown",
   "metadata": {},
   "source": [
    "e. Menghapus Elemen Set\n",
    "Untuk menghapus anggota dari set, ada 4 fungsi yang dapat kita gunakan:\n",
    "\n",
    "remove(value) Untuk menghapus nilai yang dicari. Jika nilai yang dicari tidak ada, maka akan terjadi error.\n",
    "discard(value) Untuk menghapus nilai yang dicari. Jika nilai yang dicari tidak ada, maka tidak akan terjadi error.\n",
    "pop() Mengambil dan menghapus nilai yang ada di sebelah kiri.\n",
    "clear() Menghapus semua anggota."
   ]
  },
  {
   "cell_type": "markdown",
   "metadata": {},
   "source": [
    "Contoh:"
   ]
  },
  {
   "cell_type": "code",
   "execution_count": null,
   "metadata": {
    "vscode": {
     "languageId": "plaintext"
    }
   },
   "outputs": [],
   "source": [
    "set = {'virtual', 'virtuous', 100, ('a', 'b'), False, True}\n",
    "print(set)\n"
   ]
  },
  {
   "cell_type": "markdown",
   "metadata": {},
   "source": [
    "Output:"
   ]
  },
  {
   "cell_type": "code",
   "execution_count": null,
   "metadata": {
    "vscode": {
     "languageId": "plaintext"
    }
   },
   "outputs": [],
   "source": [
    "{'virtual', 'virtuous', 100, ('a', 'b'), False, True}\n"
   ]
  }
 ],
 "metadata": {
  "language_info": {
   "name": "python"
  }
 },
 "nbformat": 4,
 "nbformat_minor": 2
}
