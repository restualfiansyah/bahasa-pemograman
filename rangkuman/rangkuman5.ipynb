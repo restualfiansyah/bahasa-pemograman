{
 "cells": [
  {
   "cell_type": "markdown",
   "metadata": {},
   "source": [
    "f. Fungsi-fungsi (Set)\n",
    "Berikut ini adalah rangkuman dari fungsi-fungsi bawaan dari tipe data set yang dapat kita gunakan:\n",
    "\n",
    "Fungsi\tUtilitas\n",
    "add()\tMenambahkan satu anggota ke dalam set\n",
    "clear()\tMenghapus seluruh set"
   ]
  },
  {
   "cell_type": "markdown",
   "metadata": {},
   "source": [
    "Penjelasan Kode\n",
    "Contoh Penggunaan Fungsi-fungsi Penghapusan dalam Set"
   ]
  },
  {
   "cell_type": "code",
   "execution_count": null,
   "metadata": {
    "vscode": {
     "languageId": "plaintext"
    }
   },
   "outputs": [],
   "source": [
    "# akan menghasilkan error jika nilai 100 tidak ada dalam set\n",
    "set.remove(100)\n",
    "print(set)\n",
    "\n",
    "# tidak akan menghasilkan error jika ('a', 'b') tidak ada dalam set\n",
    "set.discard(('a', 'b'))\n",
    "print(set)\n",
    "\n",
    "# menghapus nilai paling kiri\n",
    "Removedvalue = set.pop()\n",
    "print(\"Removed value =\", Removedvalue)\n",
    "print(set)\n",
    "\n",
    "# menghapus semua nilai\n",
    "set.clear()\n",
    "print(set)\n"
   ]
  },
  {
   "cell_type": "markdown",
   "metadata": {},
   "source": [
    "Output:"
   ]
  },
  {
   "cell_type": "code",
   "execution_count": null,
   "metadata": {
    "vscode": {
     "languageId": "plaintext"
    }
   },
   "outputs": [],
   "source": [
    "{False, True, 100, 'maya', 'budi', ('a', 'b')}\n",
    "{False, True, 'maya', 'budi', ('a', 'b')}\n",
    "{False, True, 'maya', 'budi'}\n",
    "Removed value = False\n",
    "{'maya', 'budi'}\n",
    "set()\n"
   ]
  },
  {
   "cell_type": "markdown",
   "metadata": {},
   "source": [
    "Penjelasan Terjemahan Bahasa Indonesia\n",
    "f. Fungsi-fungsi (Set)\n",
    "Berikut ini adalah rangkuman dari fungsi-fungsi bawaan dari tipe data set yang dapat kita gunakan:\n",
    "\n",
    "Fungsi\tUtilitas\n",
    "add()\tMenambahkan satu anggota ke dalam set\n",
    "clear()\tMenghapus seluruh set"
   ]
  }
 ],
 "metadata": {
  "language_info": {
   "name": "python"
  }
 },
 "nbformat": 4,
 "nbformat_minor": 2
}
