{
 "cells": [
  {
   "cell_type": "markdown",
   "metadata": {},
   "source": [
    "f. Fungsi-fungsi Set Berikut adalah ringkasan fungsi-fungsi bawaan dari tipe data set yang bisa kita gunakan:\n",
    "\n",
    "Fungsi Kegunaan\n",
    "\n",
    "add() Menambahkan satu anggota ke set\n",
    "clear() Menghapus seluruh set\n",
    "copy() Membuat salinan satu set ke set baru\n",
    "difference() Melakukan operasi selisih antara dua set\n",
    "difference_update() Menghapus anggota set lain yang ada di set saat ini\n",
    "discard() Menghapus satu anggota dari set\n",
    "intersection() Melakukan operasi irisan antara dua set\n",
    "intersection_update() Memperbarui anggota yang merupakan irisan dari dua set\n",
    "isdisjoint() Mengembalikan nilai True jika dua set tidak memiliki irisan\n",
    "issubset() Mengembalikan nilai True jika set lain memiliki anggota dari set saat ini\n",
    "issuperset() Mengembalikan nilai True jika set saat ini memiliki anggota dari set lain\n",
    "pop() Mengambil dan menghapus nilai yang dihapus dari set\n",
    "remove() Menghapus satu nilai dari set\n",
    "symmetric_difference() Melakukan operasi komplemen antar dua set\n",
    "symmetric_difference_update() Mengupdate set dari hasil komplemen\n",
    "union() Melakukan operasi gabungan dari dua atau lebih set\n",
    "update() Mengupdate set dengan menambahkan suatu nilai tertentu"
   ]
  }
 ],
 "metadata": {
  "language_info": {
   "name": "python"
  }
 },
 "nbformat": 4,
 "nbformat_minor": 2
}
