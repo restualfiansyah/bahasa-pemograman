{
 "cells": [
  {
   "cell_type": "code",
   "execution_count": null,
   "metadata": {
    "vscode": {
     "languageId": "plaintext"
    }
   },
   "outputs": [],
   "source": [
    "{'Wahid', 'Lendis', 'Basith', 'Huda'}\n",
    "{'apel', 'mangga'}\n",
    "{True, 5, ('A', 'B'), 'hewan', 'manusia'}\n"
   ]
  },
  {
   "cell_type": "markdown",
   "metadata": {},
   "source": [
    "a. Tidak Berurutan (Set)\n",
    "Jenis data himpunan tidak berurutan. Artinya, kita tidak dapat menggunakan indeks untuk mengakses nilai dalam himpunan. Bahkan jika kita memaksa, kita hanya akan mendapatkan error:"
   ]
  },
  {
   "cell_type": "code",
   "execution_count": null,
   "metadata": {
    "vscode": {
     "languageId": "plaintext"
    }
   },
   "outputs": [],
   "source": [
    "my_set = {'a'}\n",
    "print(my_set[0])\n"
   ]
  },
  {
   "cell_type": "markdown",
   "metadata": {},
   "source": [
    "Pesan error:"
   ]
  },
  {
   "cell_type": "markdown",
   "metadata": {},
   "source": [
    "Traceback (most recent call last):\n",
    "  File \"<stdin>\", line 1, in <module>\n",
    "TypeError: 'set' object is not subscriptable\n"
   ]
  },
  {
   "cell_type": "markdown",
   "metadata": {},
   "source": [
    "Kita juga dapat melihat kode program yang kita buat sebelumnya:"
   ]
  },
  {
   "cell_type": "code",
   "execution_count": null,
   "metadata": {
    "vscode": {
     "languageId": "plaintext"
    }
   },
   "outputs": [],
   "source": [
    "student_set = {'Huda', 'Lendis', 'Wahid', 'Basith'}\n",
    "print(student_set)\n"
   ]
  },
  {
   "cell_type": "markdown",
   "metadata": {},
   "source": [
    "Output:"
   ]
  },
  {
   "cell_type": "code",
   "execution_count": null,
   "metadata": {
    "vscode": {
     "languageId": "plaintext"
    }
   },
   "outputs": [],
   "source": [
    "{'Wahid', 'Lendis', 'Basith', 'Huda'}\n"
   ]
  },
  {
   "cell_type": "markdown",
   "metadata": {},
   "source": [
    "Dimana di atas kita mendefinisikan 4 anggota himpunan dalam urutan: Huda, Lendis, Wahid, dan Basith. Namun, setelah dicetak, kita mendapatkan urutan yang berbeda.\n",
    "\n",
    "b. Tidak Dapat Diubah (Set)\n",
    "Himpunan tidak dapat diubah, yang berarti nilai-nilai yang telah kita masukkan ke dalam himpunan tidak dapat diubah lagi. Namun, kita masih dapat menambah dan menghapus anggota ke dan dari himpunan. Dan, karena himpunan tidak dapat diubah, mereka hanya dapat menerima tipe data yang tidak dapat diubah lainnya."
   ]
  }
 ],
 "metadata": {
  "language_info": {
   "name": "python"
  }
 },
 "nbformat": 4,
 "nbformat_minor": 2
}
