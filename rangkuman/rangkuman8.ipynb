{
 "cells": [
  {
   "cell_type": "markdown",
   "metadata": {},
   "source": [
    "b. Menambah/Memperbarui Elemen Kamus Untuk menambah kunci dan item baru, caranya adalah dengan mengedit item. Jadi, jika kunci yang kita definisikan sudah ada, sistem akan menggantikan item lama dengan item baru, atau mengeditnya. Namun jika kunci yang kita definisikan belum ada, sistem akan menambahkannya sebagai item baru.\n",
    "\n",
    "Contoh:"
   ]
  },
  {
   "cell_type": "code",
   "execution_count": null,
   "metadata": {
    "vscode": {
     "languageId": "plaintext"
    }
   },
   "outputs": [],
   "source": [
    "student = {\n",
    "    'name': 'Lendis Fabri',\n",
    "    'origin': 'Indonesia'\n",
    "}\n",
    "\n",
    "# Output None\n",
    "print('Hobby:', student.get('hobby'))\n",
    "\n",
    "# Menambah data\n",
    "student['hobby'] = 'Fishing'\n",
    "\n",
    "# Cetak ulang\n",
    "print('Hobby dari {} adalah {}'.format(\n",
    "    student.get('name'),\n",
    "    student.get('hobby')\n",
    "))"
   ]
  },
  {
   "cell_type": "markdown",
   "metadata": {},
   "source": [
    "c. Menghapus Elemen Kamus Ada dua cara untuk menghapus item:\n",
    "\n",
    "Menggunakan pernyataan del [key]. Menggunakan fungsi pop(). Perbedaan antara keduanya adalah jika kita menggunakan fungsi pop(), kita bisa mendapatkan nilai kembalian dari item yang dihapus.\n",
    "\n",
    "Contoh:"
   ]
  },
  {
   "cell_type": "code",
   "execution_count": null,
   "metadata": {
    "vscode": {
     "languageId": "plaintext"
    }
   },
   "outputs": [],
   "source": [
    "student = {\n",
    "    'name': 'Wahid Abdullah',\n",
    "    'age': 18,\n",
    "    'origin': 'Indonesia'\n",
    "}\n",
    "\n",
    "del student['name']\n",
    "student.pop('age')\n",
    "student.pop('origin')\n",
    "\n",
    "# Contoh penggunaan pop() yang mengembalikan nilai\n",
    "short_message = {\n",
    "    \"content\": \"THIS MESSAGE CAN ONLY BE READ ONCE!!\"\n",
    "}\n",
    "\n",
    "message_content = short_message.pop('content')\n",
    "\n",
    "# Akses langsung dari kamus\n",
    "print('Isi pesan:', short_message.get('content'))\n",
    "\n",
    "# Akses dari nilai yang disimpan\n",
    "print('Isi pesan:', message_content)"
   ]
  }
 ],
 "metadata": {
  "language_info": {
   "name": "python"
  }
 },
 "nbformat": 4,
 "nbformat_minor": 2
}
