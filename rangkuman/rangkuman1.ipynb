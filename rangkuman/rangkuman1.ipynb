{
 "cells": [
  {
   "cell_type": "markdown",
   "metadata": {},
   "source": [
    "1. Definisi\n",
    "Array (dalam Python) adalah struktur yang dapat menyimpan dan mengorganisir kumpulan data. Struktur data membahas tentang cara menyimpan, mengorganisir, mengelompokkan, dan merepresentasikan data.Struktur data sangat penting dan harus dikuasai oleh seorang programmer. Di forum-forum pemrograman, saya sering menemukan pertanyaan yang menurut saya dapat diselesaikan jika orang tersebut memahami konsep struktur data.\n",
    "\n",
    "Dalam materi ini, kita akan membahas struktur data lanjutan, yaitu himpunan (sets) dan kamus (dictionaries).\n",
    "\n",
    "2. Himpunan (Set)\n",
    "Himpunan dalam bahasa pemrograman Python adalah tipe data kolektif yang digunakan untuk menyimpan beberapa nilai dalam satu variabel dengan ketentuan sebagai berikut:\n",
    "-Nilai anggota yang disimpan harus unik (tidak ada duplikat).\n",
    "-Nilai anggota yang telah dimasukkan tidak dapat diubah lagi.\n",
    "-Himpunan tidak berurutan, yang berarti tidak dapat diakses melalui indeks.\n",
    "\n",
    "Untuk lebih memahami ketiga poin di atas, kita akan langsung melakukan latihan."
   ]
  },
  {
   "cell_type": "code",
   "execution_count": null,
   "metadata": {
    "vscode": {
     "languageId": "plaintext"
    }
   },
   "outputs": [],
   "source": [
    "# gunakan kurung kurawal\n",
    "student_set = {'Huda', 'Lendis', 'Wahid', 'Basith'}\n",
    "print(student_set)\n",
    "\n",
    "# ubah daftar menjadi himpunan\n",
    "fruit_set = set(['mango', 'Apple'])\n",
    "print(fruit_set)\n",
    "\n",
    "# himpunan dengan berbagai tipe data\n",
    "set_mix = {'man', 'animal', 5, True, ('A', 'B')}\n",
    "print(set_mix)\n"
   ]
  }
 ],
 "metadata": {
  "language_info": {
   "name": "python"
  }
 },
 "nbformat": 4,
 "nbformat_minor": 2
}
