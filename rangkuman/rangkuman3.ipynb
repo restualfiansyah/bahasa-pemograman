{
 "cells": [
  {
   "cell_type": "code",
   "execution_count": null,
   "metadata": {},
   "outputs": [],
   "source": [
    "# anggota set harus bertipe data yang tidak dapat diubah\n",
    "set_fruit = {'mango', 'lemon', 'avocado', True, 1, 2, 3}\n",
    "\n",
    "# kita bisa membuat tuple sebagai anggota\n",
    "# karena tuple tidak dapat diubah\n",
    "keyboard_ = {\n",
    "    (1, 2, 3),\n",
    "    (4, 5, 6),\n",
    "    (7, 8, 9),\n",
    "    (0,)\n",
    "}\n"
   ]
  },
  {
   "cell_type": "markdown",
   "metadata": {},
   "source": [
    "Namun kita tidak bisa memasukkan daftar (list) sebagai anggota karena daftar dapat diubah. Pertimbangkan contoh berikut:"
   ]
  },
  {
   "cell_type": "code",
   "execution_count": null,
   "metadata": {},
   "outputs": [],
   "source": [
    "x = set({35, 100, ['a', 'b']})\n"
   ]
  },
  {
   "cell_type": "markdown",
   "metadata": {},
   "source": [
    "Pesan error:"
   ]
  },
  {
   "cell_type": "code",
   "execution_count": null,
   "metadata": {},
   "outputs": [],
   "source": [
    "Traceback (most recent call last):\n",
    "  File \"<stdin>\", line 1, in <module>\n",
    "TypeError: unhashable type: 'list'\n"
   ]
  },
  {
   "cell_type": "markdown",
   "metadata": {},
   "source": [
    "c. Tidak ada Nilai Duplikat (Set)\n",
    "Juga set dalam python tidak dapat menerima nilai duplikat. Jika kita memasukkan nilai yang sudah ada dalam set, maka nilai tersebut hanya akan muncul atau dimasukkan sekali. Pertimbangkan contoh berikut:"
   ]
  },
  {
   "cell_type": "code",
   "execution_count": null,
   "metadata": {},
   "outputs": [],
   "source": [
    "unique_word = {\n",
    "    'morning', 'this', 'is', 'morning', 'which',\n",
    "    'very', 'bright'\n",
    "}\n",
    "\n",
    "print(unique_word)\n"
   ]
  },
  {
   "cell_type": "markdown",
   "metadata": {},
   "source": [
    "Maka kata \"morning\" hanya akan dimasukkan sekali:"
   ]
  },
  {
   "cell_type": "code",
   "execution_count": null,
   "metadata": {},
   "outputs": [],
   "source": [
    "{'that', 'very', 'this', 'morning', 'sunny', 'is'}\n"
   ]
  }
 ],
 "metadata": {
  "language_info": {
   "name": "python"
  }
 },
 "nbformat": 4,
 "nbformat_minor": 2
}
