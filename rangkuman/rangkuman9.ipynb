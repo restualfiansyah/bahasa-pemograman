{
 "cells": [
  {
   "cell_type": "markdown",
   "metadata": {},
   "source": [
    "d. Operator Keanggotaan (Membership Operators) Kita dapat menggunakan operator keanggotaan untuk tipe data kamus di Python.\n",
    "\n",
    "Contoh:"
   ]
  },
  {
   "cell_type": "code",
   "execution_count": null,
   "metadata": {
    "vscode": {
     "languageId": "plaintext"
    }
   },
   "outputs": [],
   "source": [
    "student = {\n",
    "    'name': 'Inspired Renza'\n",
    "}\n",
    "print('Apakah variabel siswa memiliki key nama?')\n",
    "print('name' in student)\n",
    "\n",
    "print('\\nApakah variabel siswa TIDAK memiliki key usia?')\n",
    "print('age' not in student)"
   ]
  },
  {
   "cell_type": "markdown",
   "metadata": {},
   "source": [
    "e. Fungsi (Dictionary)\n",
    "\n",
    "Berikut adalah ringkasan dari fungsi bawaan Dictionary yang dapat kita gunakan:\n",
    "\n",
    "Fungsi Deskripsi\n",
    "\n",
    "all() Mengembalikan True jika semua key dalam dictionary adalah True (atau jika dictionary kosong).\n",
    "\n",
    "any() Mengembalikan True jika ada key dalam dictionary yang True. Jika dictionary kosong, mengembalikan False.\n",
    "\n",
    "len() Mengembalikan panjang (jumlah item) dalam dictionary.\n",
    "\n",
    "cmp() Membandingkan item dari dua dictionary. (Tidak tersedia di Python 3)\n",
    "\n",
    "sorted() Mengembalikan list yang baru diurutkan dari key dalam dictionary."
   ]
  }
 ],
 "metadata": {
  "language_info": {
   "name": "python"
  }
 },
 "nbformat": 4,
 "nbformat_minor": 2
}
