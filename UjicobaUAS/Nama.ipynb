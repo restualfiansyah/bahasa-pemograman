{
 "cells": [
  {
   "cell_type": "markdown",
   "metadata": {},
   "source": [
    "Nama     : Muhammad Restu Alfiansyah\n",
    "Nim      : 20230801320\n",
    "Fakultas : Ilmu Komputer\n",
    "Prodi    : Teknik Informatika"
   ]
  }
 ],
 "metadata": {
  "language_info": {
   "name": "python"
  }
 },
 "nbformat": 4,
 "nbformat_minor": 2
}
