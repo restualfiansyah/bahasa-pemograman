{
 "cells": [
  {
   "cell_type": "code",
   "execution_count": null,
   "metadata": {
    "vscode": {
     "languageId": "plaintext"
    }
   },
   "outputs": [],
   "source": [
    "#include <iostream>\n",
    "using namespace std;\n",
    "\n",
    "data = {\n",
    "    'Kota': ['Jakarta', 'Bandung', 'Surabaya', 'Medan', 'Makassar'],\n",
    "    'Latitude': [-6.2088, -6.9175, -7.2575, 3.5952, -5.1477],\n",
    "    'Longitude': [106.8456, 107.6191, 112.7521, 98.6722, 119.4327],\n",
    "    'Transportasi': ['Bus', 'Kereta Api', 'Pesawat', 'Bus', 'Pesawat']\n",
    "}\n",
    "\n",
    "df = pd.DataFrame(data)\n",
    "print(\"Data Lokasi Transportasi:\\n\", df)\n",
    "\n",
    "m = folium.Map(location=[-2.5489, 118.0149], zoom_start=5)\n",
    "\n",
    "for idx, row in df.iterrows():\n",
    "    folium.Marker(\n",
    "        location=[row['Latitude'], row['Longitude']],\n",
    "        popup=f\"{row['Kota']} - {row['Transportasi']}\",\n",
    "        icon=folium.Icon(color='blue' if row['Transportasi'] == 'Bus' else 'green' if row['Transportasi'] == 'Kereta Api' else 'red')\n",
    "    ).add_to(m)\n",
    "\n"
   ]
  }
 ],
 "metadata": {
  "language_info": {
   "name": "python"
  }
 },
 "nbformat": 4,
 "nbformat_minor": 2
}
