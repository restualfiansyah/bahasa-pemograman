{
 "cells": [
  {
   "cell_type": "code",
   "execution_count": null,
   "metadata": {
    "vscode": {
     "languageId": "plaintext"
    }
   },
   "outputs": [],
   "source": [
    "#include <iostream>\n",
    "using namespace std;\n",
    "\n",
    "data = {\n",
    "    'Kota': ['Jakarta', 'Bandung', 'Surabaya', 'Medan', 'Makassar'],\n",
    "    'Bus': [15000, 12000, 18000, 9000, 7000],\n",
    "    'Kereta Api': [8000, 6000, 7000, 5000, 3000],\n",
    "    'Pesawat': [12000, 10000, 9000, 8000, 5000]\n",
    "}\n",
    "\n",
    "df = pd.DataFrame(data)\n",
    "print(df)\n",
    "\n",
    "df.set_index('Kota').plot(kind='bar', figsize=(10, 6))\n",
    "plt.title('Jumlah Penumpang Harian per Jenis Transportasi di Beberapa Kota')\n",
    "plt.xlabel('Kota')\n",
    "plt.ylabel('Jumlah Penumpang')\n",
    "plt.show()\n",
    "\n",
    "jakarta_data = df[df['Kota'] == 'Jakarta'].drop('Kota', axis=1).squeeze()\n",
    "jakarta_data.plot(kind='pie', autopct='%1.1f%%', figsize=(8, 8))\n",
    "plt.title('Persentase Penggunaan Transportasi di Jakarta')\n",
    "plt.ylabel('')\n",
    "plt.show()\n",
    "\n",
    "mean_passengers = df.drop('Kota', axis=1).mean()\n",
    "print(\"Rata-rata Jumlah Penumpang per Jenis Transportasi:\\n\", mean_passengers)\n",
    "\n",
    "max_passengers = df.set_index('Kota').idxmax()\n",
    "print(\"Kota dengan Jumlah Penumpang Tertinggi untuk Masing-masing Jenis Transportasi:\\n\", max_passengers)\n",
    "\n"
   ]
  }
 ],
 "metadata": {
  "language_info": {
   "name": "python"
  }
 },
 "nbformat": 4,
 "nbformat_minor": 2
}
