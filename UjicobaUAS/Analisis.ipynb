{
 "cells": [
  {
   "cell_type": "markdown",
   "metadata": {},
   "source": [
    "1. Transportasi Artinya pihak perusahaan harus menentukan jenis transportasi yang akan digunakan untuk menyalurkan logistik. Tidak hanya itu, pihak perusahaan juga harus memperhatikan estimasi biaya serta faktor risiko yang mungkin ditimbulkan.\n",
    "\n",
    "Artikel ini telah tayang di Kompas.com dengan judul \"Logistik: Pengertian, Tujuan, Manfaat, Kegiatan dan Sistemnya\"."
   ]
  },
  {
   "cell_type": "markdown",
   "metadata": {},
   "source": [
    "2. Lokasi Sebelum menentukan jenis transportasinya, perusahaan akan melihat dan memperhitungkan terlebih dahulu lokasi pengiriman logistiknya. Dalam komponen ini, perusahaan juga harus merencanakan hal lainnya, seperti ketersediaan stok, pihak penerima, pabrik, dan lainnya\n",
    "\n",
    "Artikel ini telah tayang di Kompas.com dengan judul \"Logistik: Pengertian, Tujuan, Manfaat, Kegiatan dan Sistemnya\","
   ]
  },
  {
   "cell_type": "markdown",
   "metadata": {},
   "source": [
    "3. Persediaan adalah pengadaan atau ketersediaan barang logistik. Perusahaan bisa mengetahui persediaan logistik dari hasil pencatatan. Komponen ini akan mempermudah perusahaan dalam menentukan pengiriman logistik dan kapan harus melakukan stok barang lagi\n",
    "\n",
    "Artikel ini telah tayang di Kompas.com dengan judul \"Logistik: Pengertian, Tujuan, Manfaat, Kegiatan dan Sistemnya\", "
   ]
  }
 ],
 "metadata": {
  "language_info": {
   "name": "python"
  }
 },
 "nbformat": 4,
 "nbformat_minor": 2
}
