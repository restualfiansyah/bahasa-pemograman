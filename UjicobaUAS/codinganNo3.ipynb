{
 "cells": [
  {
   "cell_type": "code",
   "execution_count": null,
   "metadata": {},
   "outputs": [],
   "source": [
    "#include <iostream>\n",
    "using namespace std;\n",
    "\n",
    "data = {\n",
    "    'ID': [1, 2, 3, 4, 5],\n",
    "    'Jenis_Transportasi': ['Bus', 'Kereta Api', 'Pesawat', 'Bus', 'Pesawat'],\n",
    "    'Jumlah': [50, 30, 20, 45, 15],\n",
    "    'Kota': ['Jakarta', 'Bandung', 'Surabaya', 'Medan', 'Makassar']\n",
    "}\n",
    "\n",
    "df = pd.DataFrame(data)\n",
    "print(\"Data Persediaan Transportasi Awal:\\n\", df)\n",
    "\n",
    "def tambah_persediaan(df, id, jenis, jumlah, kota):\n",
    "    new_row = {'ID': id, 'Jenis_Transportasi': jenis, 'Jumlah': jumlah, 'Kota': kota}\n",
    "    df = df.append(new_row, ignore_index=True)\n",
    "    return df\n",
    "\n",
    "def hapus_persediaan(df, id):\n",
    "    df = df[df['ID'] != id]\n",
    "    return df\n",
    "\n",
    "def perbarui_persediaan(df, id, jenis=None, jumlah=None, kota=None):\n",
    "    if jenis is not None:\n",
    "        df.loc[df['ID'] == id, 'Jenis_Transportasi'] = jenis\n",
    "    if jumlah is not None:\n",
    "        df.loc[df['ID'] == id, 'Jumlah'] = jumlah\n",
    "    if kota is not None:\n",
    "        df.loc[df['ID'] == id, 'Kota'] = kota\n",
    "    return df\n",
    "\n",
    "def laporan_persediaan(df):\n",
    "    return df\n",
    "\n",
    "def laporan_persediaan_per_kota(df, kota):\n",
    "    return df[df['Kota'] == kota]\n",
    "\n",
    "\n",
    "df = tambah_persediaan(df, 6, 'Kereta Api', 25, 'Jakarta')\n",
    "print(\"\\nData Persediaan Setelah Penambahan:\\n\", df)\n",
    "\n",
    "df = hapus_persediaan(df, 3)\n",
    "print(\"\\nData Persediaan Setelah Penghapusan:\\n\", df)\n",
    "\n",
    "df = perbarui_persediaan(df, 2, jumlah=35)\n",
    "print(\"\\nData Persediaan Setelah Pembaruan:\\n\", df)\n",
    "\n",
    "print(\"\\nLaporan Persediaan Transportasi:\\n\", laporan_persediaan(df))\n",
    "\n",
    "print(\"\\nLaporan Persediaan Transportasi di Jakarta:\\n\", laporan_persediaan_per_kota(df, 'Jakarta'))\n"
   ]
  }
 ],
 "metadata": {
  "language_info": {
   "name": "python"
  }
 },
 "nbformat": 4,
 "nbformat_minor": 2
}
